{
 "cells": [
  {
   "cell_type": "markdown",
   "metadata": {},
   "source": [
    "# CIFAR-10 Dataset"
   ]
  },
  {
   "cell_type": "markdown",
   "metadata": {},
   "source": [
    "## Setup"
   ]
  },
  {
   "cell_type": "code",
   "execution_count": 1,
   "metadata": {},
   "outputs": [],
   "source": [
    "!wget -q https://www.cs.toronto.edu/~kriz/cifar-10-python.tar.gz -O ./data/cifar-10-python.tar.gz"
   ]
  },
  {
   "cell_type": "code",
   "execution_count": 3,
   "metadata": {},
   "outputs": [],
   "source": [
    "!tar -xzf ./data/cifar-10-python.tar.gz --directory ./data"
   ]
  },
  {
   "cell_type": "code",
   "execution_count": 2,
   "metadata": {},
   "outputs": [],
   "source": [
    "#using loader provided by snatch59 on github: https://github.com/snatch59/load-cifar-10\n",
    "!wget -q https://raw.githubusercontent.com/snatch59/load-cifar-10/master/load_cifar_10.py -O load_cifar_10.py"
   ]
  },
  {
   "cell_type": "code",
   "execution_count": 1,
   "metadata": {},
   "outputs": [],
   "source": [
    "import load_cifar_10\n",
    "\n",
    "import cv2\n",
    "\n",
    "from PIL import Image\n",
    "from matplotlib import pyplot as plt\n",
    "import numpy as np\n",
    "\n",
    "import pandas as pd\n",
    "\n",
    "import models\n",
    "\n",
    "from sift import change_descriptors_to_float\n",
    "from sift import compute_descriptor_list_from_numpy_arrays\n",
    "from sift import compute_image_features\n",
    "from sift import compute_vocabulary\n",
    "from sift import unwrap_descriptor_list\n",
    "\n",
    "import metrics"
   ]
  },
  {
   "cell_type": "code",
   "execution_count": 2,
   "metadata": {},
   "outputs": [],
   "source": [
    "cifar_train_data, \\\n",
    "    cifar_train_filenames, \\\n",
    "    cifar_train_labels, \\\n",
    "    cifar_test_data, \\\n",
    "    cifar_test_filenames, \\\n",
    "    cifar_test_labels, \\\n",
    "    cifar_label_names = load_cifar_10.load_cifar_10_data(\"./data/cifar-10-batches-py\")"
   ]
  },
  {
   "cell_type": "code",
   "execution_count": 6,
   "metadata": {},
   "outputs": [
    {
     "data": {
      "text/plain": [
       "<matplotlib.image.AxesImage at 0x242cc2cf310>"
      ]
     },
     "execution_count": 6,
     "metadata": {},
     "output_type": "execute_result"
    },
    {
     "data": {
      "image/png": "[encoded data removed]",
      "text/plain": [
       "<Figure size 432x288 with 1 Axes>"
      ]
     },
     "metadata": {
      "needs_background": "light"
     },
     "output_type": "display_data"
    }
   ],
   "source": [
    "im = Image.fromarray(cifar_train_data[0])\n",
    "plt.imshow(im)"
   ]
  },
  {
   "cell_type": "markdown",
   "metadata": {},
   "source": [
    "## Simple feature extraction"
   ]
  },
  {
   "cell_type": "code",
   "execution_count": 7,
   "metadata": {},
   "outputs": [],
   "source": [
    "# All this is stolen from TUWEL\n",
    "\n",
    "def histogram_feature_extraction_easy(image_data):\n",
    "    data = []\n",
    "    for index, image in enumerate(image_data):\n",
    "        imagePIL = Image.fromarray(image)\n",
    "        imagePIL = imagePIL.convert('RGB')     \n",
    "        featureVector=imagePIL.histogram()\n",
    "        \n",
    "        if (len(featureVector) != 768): # just a sanity check; with the transformation to RGB, this should never happen\n",
    "            print(\"Unexpected length of feature vector: {} in image with index: {}\".format(str(len(featureVector)), index))\n",
    "\n",
    "        data.append((featureVector))\n",
    "    return data\n",
    "\n",
    "def histogram_feature_extraction_open_cv(image_data):\n",
    "    dataOpenCV_1D=[]\n",
    "    dataOpenCV_2D=[]\n",
    "    dataOpenCV_3D=[]\n",
    "\n",
    "    flatten = lambda l: [item for sublist in l for item in sublist]\n",
    "\n",
    "    for index, image in enumerate(image_data):\n",
    "        imagePIL = Image.fromarray(image)\n",
    "        imagePIL = imagePIL.convert('RGB')\n",
    "        imageOpenCV = np.array(imagePIL) \n",
    "        # Convert RGB to BGR \n",
    "        imageOpenCV = imageOpenCV[:, :, ::-1].copy() \n",
    "\n",
    "        # Now we split the image in the three channels, B / G / R\n",
    "        chans = cv2.split(imageOpenCV)\n",
    "        colors = (\"b\", \"g\", \"r\")\n",
    "\n",
    "        # First we do also features per channel, but this time, we aggregate them into a smaller number of bins\n",
    "        # I.e. we do not have 256 values per channel, but less\n",
    "        featuresOpenCV_1D = []\n",
    "        bins_1D=64\n",
    "        for (chan, color) in zip(chans, colors): # we compute the histogram over each channel\n",
    "            histOpenCV = cv2.calcHist([chan], [0], None, [bins_1D], [0, 256])\n",
    "            featuresOpenCV_1D.extend(histOpenCV)\n",
    "        featureVectorOpenCV_1D = flatten(featuresOpenCV_1D) # and append this to our feature vector\n",
    "        \n",
    "        dataOpenCV_1D.append(featureVectorOpenCV_1D) # now we append the feature vector to the dataset so far\n",
    "\n",
    "        if (len(featureVectorOpenCV_1D) != bins_1D*3): # sanity check, in case we had a wrong number of channels...\n",
    "            print(\"Unexpected length of feature vector: {} with index: {}\".format(str(len(featureVectorOpenCV_1D)), index))\n",
    "\n",
    "        # Next - features that look at two channels at the same time\n",
    "        # E.g. we look at when green and blue have both \"high values\"\n",
    "        # We reduce the size of bins further, to not have a too long feature vector\n",
    "        featuresOpenCV_2D = []\n",
    "        bins2D=16\n",
    "        # look at all combinations of channels (R & B, R & G, B & G)\n",
    "        featuresOpenCV_2D.extend(cv2.calcHist([chans[1], chans[0]], [0, 1], None, [bins2D, bins2D], [0, 256, 0, 256]))\n",
    "        featuresOpenCV_2D.extend(cv2.calcHist([chans[1], chans[2]], [0, 1], None, [bins2D, bins2D], [0, 256, 0, 256]))\n",
    "        featuresOpenCV_2D.extend(cv2.calcHist([chans[0], chans[2]], [0, 1], None, [bins2D, bins2D], [0, 256, 0, 256]))\n",
    "        # and add that to our dataset\n",
    "        featureVectorOpenCV_2D = flatten(featuresOpenCV_2D)\n",
    "        dataOpenCV_2D.append(featureVectorOpenCV_2D)\n",
    "\n",
    "        # finally, we look at all three channels at the same time.\n",
    "        # We further reduce our bin size, because otherwise, this would become very large...\n",
    "        featuresOpenCV_3D = cv2.calcHist([imageOpenCV], [0, 1, 2], None, [8, 8, 8], [0, 256, 0, 256, 0, 256])\n",
    "        # append to our dataset\n",
    "        featureVectorOpenCV_3D = featuresOpenCV_3D.flatten()\n",
    "        dataOpenCV_3D.append(featureVectorOpenCV_3D)\n",
    "\n",
    "    return dataOpenCV_1D, dataOpenCV_2D, dataOpenCV_3D\n",
    "    "
   ]
  },
  {
   "cell_type": "code",
   "execution_count": 8,
   "metadata": {},
   "outputs": [],
   "source": [
    "train_easy = histogram_feature_extraction_easy(cifar_train_data)\n",
    "train_dataOpenCV_1D, train_dataOpenCV_2D, train_dataOpenCV_3D = histogram_feature_extraction_open_cv(cifar_train_data)"
   ]
  },
  {
   "cell_type": "code",
   "execution_count": 9,
   "metadata": {},
   "outputs": [],
   "source": [
    "test_easy = histogram_feature_extraction_easy(cifar_test_data)\n",
    "test_dataOpenCV_1D, test_dataOpenCV_2D, test_dataOpenCV_3D = histogram_feature_extraction_open_cv(cifar_test_data)"
   ]
  },
  {
   "cell_type": "code",
   "execution_count": 10,
   "metadata": {},
   "outputs": [],
   "source": [
    "data_sets = [\n",
    "    (train_easy, test_easy, \"./results/cifar_10_easy_{}\"),\n",
    "    (train_dataOpenCV_1D, test_dataOpenCV_1D, \"./results/cifar_10_opencv_1D_{}\"),\n",
    "    (train_dataOpenCV_2D, test_dataOpenCV_2D, \"./results/cifar_10_opencv_2D_{}\"),\n",
    "    (train_dataOpenCV_3D, test_dataOpenCV_3D, \"./results/cifar_10_opencv_3D_{}\")\n",
    "]\n",
    "\n",
    "models = [\n",
    "    (models.do_logistic_regression, \"logistic_regression\", \"Logistic Regression\"),\n",
    "    (models.do_lda, \"lda\", \"LDA\"),\n",
    "    (models.do_svm, \"svm\", \"SVM\"),\n",
    "    (models.do_mlp, \"mlp\", \"MLP\")\n",
    "]"
   ]
  },
  {
   "cell_type": "code",
   "execution_count": null,
   "metadata": {},
   "outputs": [],
   "source": [
    "for (model_method, simple_name, full_name) in models:\n",
    "    for (train, test, path) in data_sets:\n",
    "        model_method(train, cifar_train_labels, test, cifar_test_labels, path.format(simple_name) + \"_{}\")"
   ]
  },
  {
   "cell_type": "code",
   "execution_count": null,
   "metadata": {},
   "outputs": [],
   "source": [
    "results = []\n",
    "for (model_method, simple_name, full_name) in models:\n",
    "    for (train, test, path) in data_sets:\n",
    "        df_preds = pd.read_csv(path.format(simple_name) + \"_test_set_predictions.csv\")\n",
    "        results.append([\n",
    "            full_name,\n",
    "            metrics.accuracy_score(df_preds[\"y_true\"], df_preds[\"y_pred\"]),\n",
    "            metrics.recall_score(df_preds[\"y_true\"], df_preds[\"y_pred\"], average=\"weighted\"),\n",
    "            metrics.precision_score(df_preds[\"y_true\"], df_preds[\"y_pred\"], average=\"weighted\"),\n",
    "            metrics.f1_score(df_preds[\"y_true\"], df_preds[\"y_pred\"], average=\"weighted\")\n",
    "        ])\n",
    "df_results = pd.DataFrame(data=results, columns=[\"Name\", \"Accuracy\", \"Recall\", \"Precision\", \"F1\"])"
   ]
  },
  {
   "cell_type": "markdown",
   "metadata": {},
   "source": [
    "## SIFT and Visual Bag of Words"
   ]
  },
  {
   "cell_type": "code",
   "execution_count": 5,
   "metadata": {},
   "outputs": [],
   "source": [
    "def convert_to_grayscale_arrays(images):\n",
    "  grayscale_images = []\n",
    "  for image in images:\n",
    "      image_pillow = Image.fromarray(image)\n",
    "      pixels = get_grayscale_pixels(image_pillow)\n",
    "      grayscale_images.append(pixels)\n",
    "  return grayscale_images\n",
    "\n",
    "def get_grayscale_pixels(image):\n",
    "  pix = []\n",
    "  width, height = image.size\n",
    "  for i in range(0, width):\n",
    "    for j in range(0, height):\n",
    "      pix.append(image.getpixel((i,j)))\n",
    "  return np.array(pix)"
   ]
  },
  {
   "cell_type": "code",
   "execution_count": 7,
   "metadata": {},
   "outputs": [
    {
     "data": {
      "text/plain": [
       "array([[ 59,  62,  63],\n",
       "       [ 16,  20,  20],\n",
       "       [ 25,  24,  21],\n",
       "       ...,\n",
       "       [ 53,  34,  20],\n",
       "       [ 83,  53,  34],\n",
       "       [123,  92,  72]])"
      ]
     },
     "execution_count": 7,
     "metadata": {},
     "output_type": "execute_result"
    }
   ],
   "source": [
    "example = Image.fromarray(cifar_train_data[0])\n",
    "get_grayscale_pixels(example)"
   ]
  },
  {
   "cell_type": "code",
   "execution_count": 4,
   "metadata": {},
   "outputs": [
    {
     "name": "stdout",
     "output_type": "stream",
     "text": [
      "Computing descriptors...\n"
     ]
    },
    {
     "ename": "TypeError",
     "evalue": "Can't convert object to 'str' for 'filename'",
     "output_type": "error",
     "traceback": [
      "\u001b[1;31m---------------------------------------------------------------------------\u001b[0m",
      "\u001b[1;31mTypeError\u001b[0m                                 Traceback (most recent call last)",
      "\u001b[1;32me:\\TU Wien\\Semester 1\\Machine Learning\\Actual Exercise 3\\Traditional_Machine_Learning_CIFAR-10.ipynb Cell 18'\u001b[0m in \u001b[0;36m<module>\u001b[1;34m\u001b[0m\n\u001b[1;32m----> <a href='vscode-notebook-cell:/e%3A/TU%20Wien/Semester%201/Machine%20Learning/Actual%20Exercise%203/Traditional_Machine_Learning_CIFAR-10.ipynb#ch0000016?line=0'>1</a>\u001b[0m train_descriptor_list \u001b[39m=\u001b[39m compute_descriptor_list_from_numpy_arrays(cifar_train_filenames)\n\u001b[0;32m      <a href='vscode-notebook-cell:/e%3A/TU%20Wien/Semester%201/Machine%20Learning/Actual%20Exercise%203/Traditional_Machine_Learning_CIFAR-10.ipynb#ch0000016?line=1'>2</a>\u001b[0m train_unwrapped_descriptor_list \u001b[39m=\u001b[39m unwrap_descriptor_list(train_descriptor_list)\n\u001b[0;32m      <a href='vscode-notebook-cell:/e%3A/TU%20Wien/Semester%201/Machine%20Learning/Actual%20Exercise%203/Traditional_Machine_Learning_CIFAR-10.ipynb#ch0000016?line=2'>3</a>\u001b[0m train_descriptor_list_float \u001b[39m=\u001b[39m change_descriptors_to_float(train_unwrapped_descriptor_list)\n",
      "File \u001b[1;32me:\\TU Wien\\Semester 1\\Machine Learning\\Actual Exercise 3\\sift.py:28\u001b[0m, in \u001b[0;36mcompute_descriptor_list_from_numpy_arrays\u001b[1;34m(image_paths)\u001b[0m\n\u001b[0;32m     <a href='file:///e%3A/TU%20Wien/Semester%201/Machine%20Learning/Actual%20Exercise%203/sift.py?line=25'>26</a>\u001b[0m \u001b[39mprint\u001b[39m(\u001b[39m\"\u001b[39m\u001b[39mComputing descriptors...\u001b[39m\u001b[39m\"\u001b[39m)\n\u001b[0;32m     <a href='file:///e%3A/TU%20Wien/Semester%201/Machine%20Learning/Actual%20Exercise%203/sift.py?line=26'>27</a>\u001b[0m \u001b[39mfor\u001b[39;00m (index, path) \u001b[39min\u001b[39;00m \u001b[39menumerate\u001b[39m(image_paths):\n\u001b[1;32m---> <a href='file:///e%3A/TU%20Wien/Semester%201/Machine%20Learning/Actual%20Exercise%203/sift.py?line=27'>28</a>\u001b[0m     image \u001b[39m=\u001b[39m cv2\u001b[39m.\u001b[39;49mimread(path)\n\u001b[0;32m     <a href='file:///e%3A/TU%20Wien/Semester%201/Machine%20Learning/Actual%20Exercise%203/sift.py?line=28'>29</a>\u001b[0m     image \u001b[39m=\u001b[39m cv2\u001b[39m.\u001b[39mcvtColor(image, cv2\u001b[39m.\u001b[39mCOLOR_BGR2GRAY)\n\u001b[0;32m     <a href='file:///e%3A/TU%20Wien/Semester%201/Machine%20Learning/Actual%20Exercise%203/sift.py?line=29'>30</a>\u001b[0m     keypoints, descriptors \u001b[39m=\u001b[39m sift\u001b[39m.\u001b[39mdetectAndCompute(image, \u001b[39mNone\u001b[39;00m)\n",
      "\u001b[1;31mTypeError\u001b[0m: Can't convert object to 'str' for 'filename'"
     ]
    }
   ],
   "source": [
    "train_descriptor_list = compute_descriptor_list_from_numpy_arrays(cifar_train_filenames)\n",
    "train_unwrapped_descriptor_list = unwrap_descriptor_list(train_descriptor_list)\n",
    "train_descriptor_list_float = change_descriptors_to_float(train_unwrapped_descriptor_list)\n",
    "vocabulary = compute_vocabulary(train_descriptor_list_float)\n",
    "train_image_features = compute_image_features(train_descriptor_list, vocabulary)\n",
    "df_train_image_features = pd.DataFrame(data=train_image_features)\n",
    "df_train_image_features.to_csv(\"saves/cifar_10_sift_train.csv\", index=False)"
   ]
  },
  {
   "cell_type": "code",
   "execution_count": null,
   "metadata": {},
   "outputs": [],
   "source": [
    "test_descriptor_list = compute_descriptor_list_from_numpy_arrays(cifar_test_filenames)\n",
    "test_unwrapped_descriptor_list = unwrap_descriptor_list(test_descriptor_list)\n",
    "test_descriptor_list_float = change_descriptors_to_float(test_unwrapped_descriptor_list)\n",
    "vocabulary = compute_vocabulary(test_descriptor_list_float)\n",
    "test_image_features = compute_image_features(test_descriptor_list, vocabulary)\n",
    "\n",
    "df_test_image_features = pd.DataFrame(data=test_image_features)\n",
    "df_test_image_features.to_csv(\"saves/cifar_10_sift_test.csv\", index=False)"
   ]
  },
  {
   "cell_type": "code",
   "execution_count": 3,
   "metadata": {},
   "outputs": [
    {
     "ename": "NameError",
     "evalue": "name 'pd' is not defined",
     "output_type": "error",
     "traceback": [
      "\u001b[1;31m---------------------------------------------------------------------------\u001b[0m",
      "\u001b[1;31mNameError\u001b[0m                                 Traceback (most recent call last)",
      "\u001b[1;32me:\\TU Wien\\Semester 1\\Machine Learning\\Actual Exercise 3\\Traditional_Machine_Learning_CIFAR-10.ipynb Cell 19'\u001b[0m in \u001b[0;36m<module>\u001b[1;34m\u001b[0m\n\u001b[1;32m----> <a href='vscode-notebook-cell:/e%3A/TU%20Wien/Semester%201/Machine%20Learning/Actual%20Exercise%203/Traditional_Machine_Learning_CIFAR-10.ipynb#ch0000018?line=0'>1</a>\u001b[0m df_train_image_features \u001b[39m=\u001b[39m pd\u001b[39m.\u001b[39mread_csv(\u001b[39m\"\u001b[39m\u001b[39msaves/cifar_10_sift_train.csv\u001b[39m\u001b[39m\"\u001b[39m)\n\u001b[0;32m      <a href='vscode-notebook-cell:/e%3A/TU%20Wien/Semester%201/Machine%20Learning/Actual%20Exercise%203/Traditional_Machine_Learning_CIFAR-10.ipynb#ch0000018?line=1'>2</a>\u001b[0m df_test_image_features \u001b[39m=\u001b[39m pd\u001b[39m.\u001b[39mread_csv(\u001b[39m\"\u001b[39m\u001b[39msaves/cifar_10_sift_test.csv\u001b[39m\u001b[39m\"\u001b[39m)\n",
      "\u001b[1;31mNameError\u001b[0m: name 'pd' is not defined"
     ]
    }
   ],
   "source": [
    "df_train_image_features = pd.read_csv(\"saves/cifar_10_sift_train.csv\")\n",
    "df_test_image_features = pd.read_csv(\"saves/cifar_10_sift_test.csv\")"
   ]
  },
  {
   "cell_type": "code",
   "execution_count": null,
   "metadata": {},
   "outputs": [],
   "source": [
    "for model in models:\n",
    "    model(df_train_image_features, cifar_train_labels, df_test_image_features, cifar_test_labels, \"./results/cifar_10_sift_{}\")"
   ]
  }
 ],
 "metadata": {
  "interpreter": {
   "hash": "d4048392f7b9f5bfe7645ce1dfe2b52a1e4f9a3866414cb036888ca7be5e8d58"
  },
  "kernelspec": {
   "display_name": "Python 3.9.5 ('base')",
   "language": "python",
   "name": "python3"
  },
  "language_info": {
   "codemirror_mode": {
    "name": "ipython",
    "version": 3
   },
   "file_extension": ".py",
   "mimetype": "text/x-python",
   "name": "python",
   "nbconvert_exporter": "python",
   "pygments_lexer": "ipython3",
   "version": "3.9.5"
  },
  "orig_nbformat": 4
 },
 "nbformat": 4,
 "nbformat_minor": 2
}
